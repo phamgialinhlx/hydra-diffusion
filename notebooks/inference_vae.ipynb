{
 "cells": [
  {
   "cell_type": "code",
   "execution_count": 1,
   "metadata": {},
   "outputs": [
    {
     "name": "stdout",
     "output_type": "stream",
     "text": [
      "/mnt/work/Code/hydra-diffusion\n"
     ]
    }
   ],
   "source": [
    "%cd .."
   ]
  },
  {
   "attachments": {},
   "cell_type": "markdown",
   "metadata": {},
   "source": [
    "## Denoising Diffusion Probabilistic Models"
   ]
  },
  {
   "cell_type": "code",
   "execution_count": 2,
   "metadata": {},
   "outputs": [],
   "source": [
    "import torch\n",
    "import pytorch_lightning as pl\n",
    "from src.models.vae_module import VAEModule\n",
    "from src.data.mnist_datamodule import MNISTDataModule\n",
    "from torch.utils.data import DataLoader\n",
    "import matplotlib.animation as animation\n",
    "import matplotlib.pyplot as plt\n",
    "from torchvision.utils import make_grid"
   ]
  },
  {
   "attachments": {},
   "cell_type": "markdown",
   "metadata": {},
   "source": [
    "### Load pretrained model"
   ]
  },
  {
   "cell_type": "code",
   "execution_count": 3,
   "metadata": {},
   "outputs": [],
   "source": [
    "last_checkpoint = \"/mnt/work/Code/hydra-diffusion/logs/train/runs/2023-07-22_17-34-51/checkpoints/last.ckpt\"\n",
    "last_checkpoint = \"/mnt/work/Code/hydra-diffusion/logs/train/runs/2023-07-22_17-39-34/checkpoints/last.ckpt\""
   ]
  },
  {
   "cell_type": "code",
   "execution_count": 4,
   "metadata": {},
   "outputs": [
    {
     "name": "stderr",
     "output_type": "stream",
     "text": [
      "/home/ozo/miniconda3/lib/python3.8/site-packages/lightning/pytorch/utilities/parsing.py:196: UserWarning: Attribute 'net' is an instance of `nn.Module` and is already saved during checkpointing. It is recommended to ignore them using `self.save_hyperparameters(ignore=['net'])`.\n",
      "  rank_zero_warn(\n"
     ]
    },
    {
     "name": "stdout",
     "output_type": "stream",
     "text": [
      "VAE(\n",
      "  (encoder): Sequential(\n",
      "    (0): Linear(in_features=1024, out_features=128, bias=True)\n",
      "    (1): Tanh()\n",
      "    (2): Linear(in_features=128, out_features=64, bias=True)\n",
      "    (3): Tanh()\n",
      "    (4): Linear(in_features=64, out_features=32, bias=True)\n",
      "    (5): Tanh()\n",
      "    (6): Linear(in_features=32, out_features=16, bias=True)\n",
      "    (7): Tanh()\n",
      "    (8): Linear(in_features=16, out_features=8, bias=True)\n",
      "    (9): Tanh()\n",
      "    (10): Linear(in_features=8, out_features=4, bias=True)\n",
      "  )\n",
      "  (decoder): Sequential(\n",
      "    (0): Linear(in_features=4, out_features=8, bias=True)\n",
      "    (1): Tanh()\n",
      "    (2): Linear(in_features=8, out_features=16, bias=True)\n",
      "    (3): Tanh()\n",
      "    (4): Linear(in_features=16, out_features=32, bias=True)\n",
      "    (5): Tanh()\n",
      "    (6): Linear(in_features=32, out_features=64, bias=True)\n",
      "    (7): Tanh()\n",
      "    (8): Linear(in_features=64, out_features=128, bias=True)\n",
      "    (9): Tanh()\n",
      "    (10): Linear(in_features=128, out_features=1024, bias=True)\n",
      "    (11): Sigmoid()\n",
      "  )\n",
      ")\n"
     ]
    }
   ],
   "source": [
    "model = VAEModule.load_from_checkpoint(last_checkpoint).to(\"cuda\")"
   ]
  },
  {
   "attachments": {},
   "cell_type": "markdown",
   "metadata": {},
   "source": [
    "### Inference"
   ]
  },
  {
   "cell_type": "code",
   "execution_count": 7,
   "metadata": {},
   "outputs": [
    {
     "data": {
      "image/png": "[encoded data removed]",
      "text/plain": [
       "<Figure size 1000x1000 with 2 Axes>"
      ]
     },
     "metadata": {},
     "output_type": "display_data"
    }
   ],
   "source": [
    "datamodule = MNISTDataModule()\n",
    "datamodule.setup()\n",
    "\n",
    "# visualize samples\n",
    "inp = datamodule.data_train[15][0]\n",
    "out = model(inp.unsqueeze(0).to(\"cuda\"))\n",
    "\n",
    "\n",
    "# Visualize samples side by side\n",
    "fig = plt.figure(figsize=(10, 10))\n",
    "plt.subplot(1, 2, 1)\n",
    "plt.imshow(inp.squeeze(), cmap=\"gray\")\n",
    "\n",
    "plt.subplot(1, 2, 2)\n",
    "plt.imshow(out[0].squeeze().cpu().detach().numpy(), cmap=\"gray\")\n",
    "\n",
    "plt.show()\n"
   ]
  },
  {
   "cell_type": "code",
   "execution_count": null,
   "metadata": {},
   "outputs": [],
   "source": []
  }
 ],
 "metadata": {
  "interpreter": {
   "hash": "78f961cc1adb1d23b163d13487a7bbea047622fac31372ac86f89c77664d2955"
  },
  "kernelspec": {
   "display_name": "Python 3.8.7 64-bit ('3.8.7': pyenv)",
   "language": "python",
   "name": "python3"
  },
  "language_info": {
   "codemirror_mode": {
    "name": "ipython",
    "version": 3
   },
   "file_extension": ".py",
   "mimetype": "text/x-python",
   "name": "python",
   "nbconvert_exporter": "python",
   "pygments_lexer": "ipython3",
   "version": "3.8.16"
  },
  "orig_nbformat": 4
 },
 "nbformat": 4,
 "nbformat_minor": 2
}
